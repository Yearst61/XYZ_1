{
 "cells": [
  {
   "cell_type": "markdown",
   "metadata": {},
   "source": [
    "# Read stim_time from raw XDAQ file"
   ]
  },
  {
   "cell_type": "code",
   "execution_count": null,
   "metadata": {},
   "outputs": [],
   "source": [
    "import os\n",
    "from pathlib import Path\n",
    "import numpy as np\n",
    "import allego_file_reader as afr # remember to copy this .py file to the folder\n",
    "import pandas as pd\n",
    "import matplotlib.pyplot as plt"
   ]
  },
  {
   "cell_type": "code",
   "execution_count": null,
   "metadata": {},
   "outputs": [],
   "source": [
    "sample_rate = 30000 # true ephys sample rate, get from 01_ephys_sychronizaiton_XDAQ.ipynb\n",
    "lag_time = 0 # time that ephys start later than camera, get from 01_ephys_sychronizaiton_XDAQ.ipynb\n",
    "stim_threshhold = 500 # in uV\n",
    "stim_channel_number = 15 # choose a stimulation channel to find stim_time \n",
    "time_start = None #\n",
    "time_end = None # start and end time (seconds) to read ephys data, can default as 'None'"
   ]
  },
  {
   "cell_type": "code",
   "execution_count": null,
   "metadata": {},
   "outputs": [],
   "source": [
    "#if read from recording channel: # add stim info to record all the pulse if stim is a train\n",
    "stim_train = False # True = a pulse train, False = single pulse\n",
    "stim_gap = 0 # if a train time gap between each pulse, in second\n",
    "stim_num = 0 # if a train how many pulse are there in a train"
   ]
  },
  {
   "cell_type": "code",
   "execution_count": null,
   "metadata": {},
   "outputs": [],
   "source": []
  },
  {
   "cell_type": "code",
   "execution_count": null,
   "metadata": {},
   "outputs": [],
   "source": [
    "target_dir = \"ephys\"\n",
    "p = Path(target_dir).expanduser()\n",
    "all_xdat_datasource_names = [Path(elem.stem).stem for elem in list(p.glob('**/*xdat.json'))]\n",
    "all_xdat_datasource_names[0]\n",
    "target_file = str(Path(target_dir, all_xdat_datasource_names[0]))\n",
    "time_range = afr.get_allego_xdat_time_range(target_file)\n",
    "metadata = afr.read_allego_xdat_metadata(target_file)\n",
    "\n",
    "channel, timestamps, time_samples = afr.read_allego_xdat_all_signals(target_file, \n",
    "                                                                          time_start, time_end)\n",
    "\n",
    "# to read stim: either use a recording channel or read from STIM channel\n",
    "# there are 39 channels: recording channel 1~32, then AI1, AI2, DI1, DI2, STIM, DO1, DO2\n",
    "# eg. recordnig channel 15 is channel[14], AI1 is channel[32], STIM is channel[36]"
   ]
  },
  {
   "cell_type": "markdown",
   "metadata": {},
   "source": [
    "Load stim channel for stim_time and to see current leakage"
   ]
  },
  {
   "cell_type": "code",
   "execution_count": null,
   "metadata": {},
   "outputs": [],
   "source": [
    "# calculate stim_time\n",
    "stim_channel = channel[stim_channel_number]\n",
    "stim_time = []\n",
    "skip = 0\n",
    "for index in range(0,len(timestamps)-1):\n",
    "    if (skip>0):\n",
    "        skip = skip - 1\n",
    "        continue\n",
    "    if ((stim_channel[index+1] - stim_channel[index] > stim_threshhold)) or (stim_channel[index+1] - stim_channel[index] < (-stim_threshhold)):\n",
    "        skip = sample_rate\n",
    "        stim_time.append(index)\n",
    "\n",
    "stim_time = [element / sample_rate + lag_time for element in stim_time]\n",
    "print(stim_time)"
   ]
  },
  {
   "cell_type": "code",
   "execution_count": null,
   "metadata": {},
   "outputs": [],
   "source": [
    "# add if stim is a train\n",
    "if (stim_train):\n",
    "    stim_time = [element + count * stim_gap for element in stim_time for count in range(stim_num)]"
   ]
  },
  {
   "cell_type": "code",
   "execution_count": null,
   "metadata": {},
   "outputs": [],
   "source": [
    "# save each stim info in a .npy file in a new folder\n",
    "\n",
    "# Create a new folder\n",
    "folder_name = \"stim-time\"\n",
    "os.makedirs(folder_name, exist_ok=True)\n",
    "\n",
    "# Save the array to an .npy file inside the folder\n",
    "file_path = os.path.join(folder_name, 'stim-time.npy')\n",
    "np.save(file_path, stim_time)"
   ]
  },
  {
   "cell_type": "code",
   "execution_count": null,
   "metadata": {},
   "outputs": [],
   "source": [
    "# to plot all the channels\n",
    "time = np.arange(0,len(timestamps))\n",
    "fig, axs = plt.subplots(8,4,figsize=(80,40))\n",
    "for index in range(32):\n",
    "    i=int(index/4)\n",
    "    j=index%4\n",
    "    axs[i,j].plot(time,channel[index])\n",
    "    plt.title(\"channel:{}\".format(index))\n",
    "plt.subplots_adjust(wspace=0.3,hspace=0.22)\n",
    "plt.show()"
   ]
  },
  {
   "cell_type": "code",
   "execution_count": null,
   "metadata": {},
   "outputs": [],
   "source": []
  }
 ],
 "metadata": {
  "kernelspec": {
   "display_name": "Python 3 (ipykernel)",
   "language": "python",
   "name": "python3"
  },
  "language_info": {
   "codemirror_mode": {
    "name": "ipython",
    "version": 3
   },
   "file_extension": ".py",
   "mimetype": "text/x-python",
   "name": "python",
   "nbconvert_exporter": "python",
   "pygments_lexer": "ipython3",
   "version": "3.9.13"
  }
 },
 "nbformat": 4,
 "nbformat_minor": 2
}
