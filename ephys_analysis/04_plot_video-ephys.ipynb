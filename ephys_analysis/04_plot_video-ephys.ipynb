{
 "cells": [
  {
   "cell_type": "markdown",
   "id": "352243d2",
   "metadata": {},
   "source": [
    "# Merge stim/spike and face movement in one timeline and plot"
   ]
  },
  {
   "cell_type": "markdown",
   "id": "8ddb2a09",
   "metadata": {},
   "source": [
    "Input: spike_time, stim_time, lag_time, face-movement_time..."
   ]
  },
  {
   "cell_type": "code",
   "execution_count": null,
   "id": "365dc7ab",
   "metadata": {},
   "outputs": [],
   "source": [
    "import pandas as pd\n",
    "import numpy as np\n",
    "import matplotlib.pyplot as plt\n",
    "import os"
   ]
  },
  {
   "cell_type": "code",
   "execution_count": null,
   "id": "faf6140a",
   "metadata": {},
   "outputs": [],
   "source": [
    "spike_dir = \"spike-time_good\" # folder that have .npy file of each spike cluster, generate from script 'spike-time.ipynb'\n",
    "stim_file = \"stim-time/stim-time.npy\" #.npy file of stimulation, generate from script 'stim-time.ipynb'"
   ]
  },
  {
   "cell_type": "code",
   "execution_count": null,
   "id": "7c52f74f",
   "metadata": {},
   "outputs": [],
   "source": [
    "# Load file\n",
    "\n",
    "spike_file_name = [file for file in os.listdir(spike_dir) if file.endswith('.npy')]\n",
    "print(spike_file_name)\n",
    "\n",
    "spike_time = {}\n",
    "for name in spike_file_name:\n",
    "    spike_file_path = os.path.join(spike_dir,name)\n",
    "    spike_time[name] = np.load(spike_file_path) \n",
    "\n",
    "\n"
   ]
  },
  {
   "cell_type": "code",
   "execution_count": null,
   "id": "c2b41486",
   "metadata": {
    "scrolled": true
   },
   "outputs": [],
   "source": [
    "offsets = np.arange(len(spike_file_name))\n",
    "for i, name in enumerate(spike_file_name):\n",
    "    plt.scatter(spike_time[name], offsets[i]* np.ones_like((spike_time[name])), marker='|', label = f'{name}', linewidths=0.5)\n",
    "\n",
    "plt.xlabel('time/sec')\n",
    "plt.yticks([])\n",
    "plt.legend(loc='upper right', bbox_to_anchor=(1.5,1))\n",
    "plt.show() "
   ]
  },
  {
   "cell_type": "code",
   "execution_count": null,
   "id": "57bc013d",
   "metadata": {},
   "outputs": [],
   "source": []
  },
  {
   "cell_type": "code",
   "execution_count": null,
   "id": "ad2c33a1",
   "metadata": {},
   "outputs": [],
   "source": []
  },
  {
   "cell_type": "code",
   "execution_count": null,
   "id": "37642e63",
   "metadata": {},
   "outputs": [],
   "source": [
    "\n"
   ]
  },
  {
   "cell_type": "code",
   "execution_count": null,
   "id": "e363c346",
   "metadata": {},
   "outputs": [],
   "source": []
  }
 ],
 "metadata": {
  "kernelspec": {
   "display_name": "Python 3 (ipykernel)",
   "language": "python",
   "name": "python3"
  },
  "language_info": {
   "codemirror_mode": {
    "name": "ipython",
    "version": 3
   },
   "file_extension": ".py",
   "mimetype": "text/x-python",
   "name": "python",
   "nbconvert_exporter": "python",
   "pygments_lexer": "ipython3",
   "version": "3.9.13"
  }
 },
 "nbformat": 4,
 "nbformat_minor": 5
}
