{
 "cells": [
  {
   "cell_type": "code",
   "execution_count": null,
   "id": "ed490d42",
   "metadata": {},
   "outputs": [],
   "source": [
    "import numpy as np \n",
    "import pandas as pd\n",
    "import matplotlib.pyplot as plt\n",
    "import csv\n",
    "import math\n",
    "import os"
   ]
  },
  {
   "cell_type": "code",
   "execution_count": null,
   "id": "e2155157",
   "metadata": {},
   "outputs": [],
   "source": [
    "sample_rate = 30000 # true sample rate, usually around 30074-30075, get it from 01_ephys_sychronizaiton_XDAQ.ipynb\n",
    "lag_time = 0 # the time that ephys starts later than video. negative means ephys starts frst. get it from 01_ephys_sychronizaiton_XDAQ.ipynb\n",
    "spike_dir = \"ephys\" # "
   ]
  },
  {
   "cell_type": "code",
   "execution_count": null,
   "id": "8940d2d5",
   "metadata": {},
   "outputs": [],
   "source": [
    "spike_clusters = pd.DataFrame(data=np.load(f\"{spike_dir}\\spike_clusters.npy\"), columns = {\"clusters_id\"})\n",
    "spike_times = pd.DataFrame(data=np.load(f\"{spike_dir}\\spike_times.npy\"), columns = {\"times\"})\n",
    "cluster_info = pd.read_csv(f\"{spike_dir}\\cluster_info.tsv\", sep='\\t', header=0)\n",
    "spike = spike_clusters.join(spike_times)\n",
    "print(spike)\n",
    "print(cluster_info)"
   ]
  },
  {
   "cell_type": "code",
   "execution_count": null,
   "id": "c43342d7",
   "metadata": {},
   "outputs": [],
   "source": [
    "# get group classification -good, multi or noise\n",
    "# only save good\n",
    "good_group = cluster_info.loc[cluster_info['group']=='good'][['cluster_id','ch']]\n",
    "good_group.reset_index(drop=True,inplace=True)\n",
    "\n",
    "print(good_group)"
   ]
  },
  {
   "cell_type": "code",
   "execution_count": null,
   "id": "6dcbe441",
   "metadata": {},
   "outputs": [],
   "source": [
    "# save each group in a .npy file in a new folder\n",
    "\n",
    "# Create a new folder\n",
    "folder_name = \"spike-time_good\"\n",
    "os.makedirs(folder_name, exist_ok=True)\n",
    "\n",
    "# Save the array to an .npy file inside the folder\n",
    "for index,row in good_group.iterrows():\n",
    "    spike_name = f\"cluster{int(row['cluster_id'])}_ch{int(row['ch'])}\"\n",
    "    spike_save = (spike[spike['clusters_id']==row['cluster_id']]['times'] + lag_time) / sample_rate\n",
    "    file_path = os.path.join(folder_name, spike_name)\n",
    "    print(len(spike_save))\n",
    "    np.save(file_path, spike_save)"
   ]
  },
  {
   "cell_type": "code",
   "execution_count": null,
   "id": "46249e88",
   "metadata": {},
   "outputs": [],
   "source": [
    "# # save to excel (1 group per sheet)\n",
    "# with pd.ExcelWriter(\"spike_good.xlsx\", mode='w', engine='openpyxl') as writer:\n",
    "#     for index in good_group:\n",
    "#         each_group = spike[spike['clusters_id']==index]['times'].to_frame()/sample_rate\n",
    "#         each_group.rename(columns={'times': index}, inplace=True)\n",
    "#         each_group.to_excel(writer,sheet_name='group%s'%str(index),index=False)"
   ]
  },
  {
   "cell_type": "code",
   "execution_count": null,
   "id": "7a9bddb7",
   "metadata": {},
   "outputs": [],
   "source": [
    "# # scatter\n",
    "# for index in good_group:\n",
    "#         each_group = spike[spike['clusters_id']==index]['times'].to_frame()/sample_rate\n",
    "#         each_group.rename(columns={'times': index}, inplace=True)\n",
    "#         plt.scatter(each_group,np.full(len(each_group),index),s=1)"
   ]
  },
  {
   "cell_type": "code",
   "execution_count": null,
   "id": "643a18c1",
   "metadata": {},
   "outputs": [],
   "source": [
    "# max_time = math.ceil(max(spike['times'])/sample_rate)\n",
    "# bin = 0.1 # set time window as 0.1s for spike count\n",
    "# count = math.ceil(max_time/bin)\n",
    "# spike_rate = pd.DataFrame()\n",
    "\n",
    "# for index in good_group:\n",
    "#     each_group = spike[spike['clusters_id']==index]['times'].to_frame()/sample_rate\n",
    "#     group_rate = np.array([])\n",
    "#     time = 0\n",
    "#     for time_index in range(0,count):\n",
    "#         spikecount = each_group[(each_group['times']>=time) & (each_group['times']<time+bin)].count()/bin\n",
    "#         group_rate = np.append(group_rate,spikecount)\n",
    "#         time = time + bin\n",
    "#     group_rate = pd.DataFrame(data=group_rate,columns={index})\n",
    "#     if spike_rate.empty:\n",
    "#         spike_rate = group_rate\n",
    "#     else:\n",
    "#         spike_rate = spike_rate.join(group_rate)\n",
    "\n",
    "# spike_rate.set_index(np.arange(0,max_time,bin),inplace=True)\n",
    "# spike_rate.to_excel(\"spike_rate.xlsx\")\n",
    "# spike_rate\n",
    "            \n",
    "            "
   ]
  },
  {
   "cell_type": "code",
   "execution_count": null,
   "id": "d0630ff2",
   "metadata": {},
   "outputs": [],
   "source": []
  }
 ],
 "metadata": {
  "kernelspec": {
   "display_name": "Python 3 (ipykernel)",
   "language": "python",
   "name": "python3"
  },
  "language_info": {
   "codemirror_mode": {
    "name": "ipython",
    "version": 3
   },
   "file_extension": ".py",
   "mimetype": "text/x-python",
   "name": "python",
   "nbconvert_exporter": "python",
   "pygments_lexer": "ipython3",
   "version": "3.9.13"
  }
 },
 "nbformat": 4,
 "nbformat_minor": 5
}
