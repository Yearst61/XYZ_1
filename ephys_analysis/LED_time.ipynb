{
 "cells": [
  {
   "cell_type": "code",
   "execution_count": 1,
   "id": "ee6743ce",
   "metadata": {},
   "outputs": [],
   "source": [
    "import numpy as np\n",
    "import pandas as pd\n",
    "import matplotlib.pyplot as plt"
   ]
  },
  {
   "cell_type": "code",
   "execution_count": 2,
   "id": "86c33a3a",
   "metadata": {},
   "outputs": [],
   "source": [
    "import os\n",
    "import cv2  # pip install opencv-python\n",
    "            # pip install opencv-contrib-python"
   ]
  },
  {
   "cell_type": "code",
   "execution_count": 89,
   "id": "77d1d87d",
   "metadata": {},
   "outputs": [],
   "source": [
    "frame_rate = 100 # video recording \n",
    "LED_threshhold = 100 # \n",
    "\n",
    "video_L_path = 'video\\20240122_R12_syn_anes_002_L_fullres_15-16-16.avi'\n",
    "video_R_path = 'video/20240122_R12_syn_anes_002_R_fullres_15-16-16.avi'\n",
    "\n",
    "# Setting the points for cropped image - Right camera\n",
    "left_R, top_R, right_R, bottom_R = 1110, 350, 1120, 360\n",
    "left_L, top_L, right_L, bottom_L = 780, 70, 790, 80"
   ]
  },
  {
   "cell_type": "code",
   "execution_count": 90,
   "id": "b97402d4",
   "metadata": {},
   "outputs": [],
   "source": [
    "video_L = cv2.VideoCapture(video_L_path)\n",
    "brightness_L = []\n",
    "\n",
    "while (video_L.isOpened()):\n",
    "    ret_L, frame_L = video_R.read()\n",
    "    if not ret_L:\n",
    "        print(\"1\")\n",
    "        break\n",
    "    frame_L_8bit = cv2.cvtColor(frame_L,cv2.COLOR_BGR2GRAY)\n",
    "    cropped_frame_L = frame_L_8bit[top_L:bottom_L,left_L:right_L] # Crop the frame\n",
    "    brightness_L.append(cv2.mean(cropped_frame_L)[0]) # Calculate brightness of the cropped frame (average pixel intensity)\n",
    "video_L.release()\n"
   ]
  },
  {
   "cell_type": "code",
   "execution_count": 88,
   "id": "1e1e5011",
   "metadata": {},
   "outputs": [
    {
     "name": "stdout",
     "output_type": "stream",
     "text": [
      "1\n"
     ]
    }
   ],
   "source": [
    "video_R = cv2.VideoCapture(video_R_path)\n",
    "brightness_R = []\n",
    "\n",
    "while (video_R.isOpened()):\n",
    "    ret_R, frame_R = video_R.read()\n",
    "    if not ret_R:\n",
    "        break\n",
    "    frame_R_8bit = cv2.cvtColor(frame_R,cv2.COLOR_BGR2GRAY)\n",
    "#     plt.imshow(cv2.cvtColor(frame_R, cv2.COLOR_BGR2RGB))\n",
    "    cropped_frame_R = frame_R_8bit[top_R:bottom_R,left_R:right_R] # Crop the frame\n",
    "#     plt.imshow(cv2.cvtColor(cropped_frame_R, cv2.COLOR_BGR2RGB))\n",
    "    brightness_R.append(cv2.mean(cropped_frame_R)[0]) # Calculate brightness of the cropped frame (average pixel intensity)\n",
    "video_R.release()"
   ]
  },
  {
   "cell_type": "code",
   "execution_count": 69,
   "id": "27ac9f23",
   "metadata": {},
   "outputs": [
    {
     "data": {
      "text/plain": [
       "[]"
      ]
     },
     "execution_count": 69,
     "metadata": {},
     "output_type": "execute_result"
    }
   ],
   "source": [
    "brightness_L"
   ]
  },
  {
   "cell_type": "code",
   "execution_count": 83,
   "id": "d9f432d4",
   "metadata": {},
   "outputs": [
    {
     "name": "stdout",
     "output_type": "stream",
     "text": [
      "9967\n"
     ]
    },
    {
     "data": {
      "image/png": "[encoded data removed]",
      "text/plain": [
       "<Figure size 432x288 with 1 Axes>"
      ]
     },
     "metadata": {
      "needs_background": "light"
     },
     "output_type": "display_data"
    }
   ],
   "source": [
    "plt.plot(range(0,len(brightness_R)),brightness_R,color='r',label=\"R\")\n",
    "print(len(brightness_R))"
   ]
  },
  {
   "cell_type": "code",
   "execution_count": 91,
   "id": "acd39779",
   "metadata": {},
   "outputs": [
    {
     "data": {
      "text/plain": [
       "[<matplotlib.lines.Line2D at 0x1944c7d2d30>]"
      ]
     },
     "execution_count": 91,
     "metadata": {},
     "output_type": "execute_result"
    },
    {
     "data": {
      "image/png": "[encoded data removed]",
      "text/plain": [
       "<Figure size 432x288 with 1 Axes>"
      ]
     },
     "metadata": {
      "needs_background": "light"
     },
     "output_type": "display_data"
    }
   ],
   "source": [
    "plt.plot(range(0,len(brightness_L)),brightness_L,color='b',label=\"L\")"
   ]
  },
  {
   "cell_type": "code",
   "execution_count": 64,
   "id": "6b142004",
   "metadata": {},
   "outputs": [
    {
     "ename": "ValueError",
     "evalue": "x and y must have same first dimension, but have shapes (9967,) and (0,)",
     "output_type": "error",
     "traceback": [
      "\u001b[1;31m---------------------------------------------------------------------------\u001b[0m",
      "\u001b[1;31mValueError\u001b[0m                                Traceback (most recent call last)",
      "Input \u001b[1;32mIn [64]\u001b[0m, in \u001b[0;36m<cell line: 5>\u001b[1;34m()\u001b[0m\n\u001b[0;32m      2\u001b[0m X \u001b[38;5;241m=\u001b[39m \u001b[38;5;28mrange\u001b[39m(\u001b[38;5;241m0\u001b[39m,\u001b[38;5;28mlen\u001b[39m(brightness_R))\n\u001b[0;32m      3\u001b[0m fig_R\u001b[38;5;241m.\u001b[39mplot(X,brightness_R,color\u001b[38;5;241m=\u001b[39m\u001b[38;5;124m'\u001b[39m\u001b[38;5;124mr\u001b[39m\u001b[38;5;124m'\u001b[39m,label\u001b[38;5;241m=\u001b[39m\u001b[38;5;124m\"\u001b[39m\u001b[38;5;124mR\u001b[39m\u001b[38;5;124m\"\u001b[39m)\n\u001b[1;32m----> 5\u001b[0m \u001b[43mfig_L\u001b[49m\u001b[38;5;241;43m.\u001b[39;49m\u001b[43mplot\u001b[49m\u001b[43m(\u001b[49m\u001b[43mX\u001b[49m\u001b[43m,\u001b[49m\u001b[43mbrightness_L\u001b[49m\u001b[43m,\u001b[49m\u001b[43mcolor\u001b[49m\u001b[38;5;241;43m=\u001b[39;49m\u001b[38;5;124;43m'\u001b[39;49m\u001b[38;5;124;43mb\u001b[39;49m\u001b[38;5;124;43m'\u001b[39;49m\u001b[43m,\u001b[49m\u001b[43mlabel\u001b[49m\u001b[38;5;241;43m=\u001b[39;49m\u001b[38;5;124;43m\"\u001b[39;49m\u001b[38;5;124;43mL\u001b[39;49m\u001b[38;5;124;43m\"\u001b[39;49m\u001b[43m)\u001b[49m\n\u001b[0;32m      6\u001b[0m fig_L\u001b[38;5;241m.\u001b[39mlegend()\n",
      "File \u001b[1;32mD:\\toolApp\\anaconda\\lib\\site-packages\\matplotlib\\axes\\_axes.py:1632\u001b[0m, in \u001b[0;36mAxes.plot\u001b[1;34m(self, scalex, scaley, data, *args, **kwargs)\u001b[0m\n\u001b[0;32m   1390\u001b[0m \u001b[38;5;124;03m\"\"\"\u001b[39;00m\n\u001b[0;32m   1391\u001b[0m \u001b[38;5;124;03mPlot y versus x as lines and/or markers.\u001b[39;00m\n\u001b[0;32m   1392\u001b[0m \n\u001b[1;32m   (...)\u001b[0m\n\u001b[0;32m   1629\u001b[0m \u001b[38;5;124;03m(``'green'``) or hex strings (``'#008000'``).\u001b[39;00m\n\u001b[0;32m   1630\u001b[0m \u001b[38;5;124;03m\"\"\"\u001b[39;00m\n\u001b[0;32m   1631\u001b[0m kwargs \u001b[38;5;241m=\u001b[39m cbook\u001b[38;5;241m.\u001b[39mnormalize_kwargs(kwargs, mlines\u001b[38;5;241m.\u001b[39mLine2D)\n\u001b[1;32m-> 1632\u001b[0m lines \u001b[38;5;241m=\u001b[39m [\u001b[38;5;241m*\u001b[39m\u001b[38;5;28mself\u001b[39m\u001b[38;5;241m.\u001b[39m_get_lines(\u001b[38;5;241m*\u001b[39margs, data\u001b[38;5;241m=\u001b[39mdata, \u001b[38;5;241m*\u001b[39m\u001b[38;5;241m*\u001b[39mkwargs)]\n\u001b[0;32m   1633\u001b[0m \u001b[38;5;28;01mfor\u001b[39;00m line \u001b[38;5;129;01min\u001b[39;00m lines:\n\u001b[0;32m   1634\u001b[0m     \u001b[38;5;28mself\u001b[39m\u001b[38;5;241m.\u001b[39madd_line(line)\n",
      "File \u001b[1;32mD:\\toolApp\\anaconda\\lib\\site-packages\\matplotlib\\axes\\_base.py:312\u001b[0m, in \u001b[0;36m_process_plot_var_args.__call__\u001b[1;34m(self, data, *args, **kwargs)\u001b[0m\n\u001b[0;32m    310\u001b[0m     this \u001b[38;5;241m+\u001b[39m\u001b[38;5;241m=\u001b[39m args[\u001b[38;5;241m0\u001b[39m],\n\u001b[0;32m    311\u001b[0m     args \u001b[38;5;241m=\u001b[39m args[\u001b[38;5;241m1\u001b[39m:]\n\u001b[1;32m--> 312\u001b[0m \u001b[38;5;28;01myield from\u001b[39;00m \u001b[38;5;28;43mself\u001b[39;49m\u001b[38;5;241;43m.\u001b[39;49m\u001b[43m_plot_args\u001b[49m\u001b[43m(\u001b[49m\u001b[43mthis\u001b[49m\u001b[43m,\u001b[49m\u001b[43m \u001b[49m\u001b[43mkwargs\u001b[49m\u001b[43m)\u001b[49m\n",
      "File \u001b[1;32mD:\\toolApp\\anaconda\\lib\\site-packages\\matplotlib\\axes\\_base.py:498\u001b[0m, in \u001b[0;36m_process_plot_var_args._plot_args\u001b[1;34m(self, tup, kwargs, return_kwargs)\u001b[0m\n\u001b[0;32m    495\u001b[0m     \u001b[38;5;28mself\u001b[39m\u001b[38;5;241m.\u001b[39maxes\u001b[38;5;241m.\u001b[39myaxis\u001b[38;5;241m.\u001b[39mupdate_units(y)\n\u001b[0;32m    497\u001b[0m \u001b[38;5;28;01mif\u001b[39;00m x\u001b[38;5;241m.\u001b[39mshape[\u001b[38;5;241m0\u001b[39m] \u001b[38;5;241m!=\u001b[39m y\u001b[38;5;241m.\u001b[39mshape[\u001b[38;5;241m0\u001b[39m]:\n\u001b[1;32m--> 498\u001b[0m     \u001b[38;5;28;01mraise\u001b[39;00m \u001b[38;5;167;01mValueError\u001b[39;00m(\u001b[38;5;124mf\u001b[39m\u001b[38;5;124m\"\u001b[39m\u001b[38;5;124mx and y must have same first dimension, but \u001b[39m\u001b[38;5;124m\"\u001b[39m\n\u001b[0;32m    499\u001b[0m                      \u001b[38;5;124mf\u001b[39m\u001b[38;5;124m\"\u001b[39m\u001b[38;5;124mhave shapes \u001b[39m\u001b[38;5;132;01m{\u001b[39;00mx\u001b[38;5;241m.\u001b[39mshape\u001b[38;5;132;01m}\u001b[39;00m\u001b[38;5;124m and \u001b[39m\u001b[38;5;132;01m{\u001b[39;00my\u001b[38;5;241m.\u001b[39mshape\u001b[38;5;132;01m}\u001b[39;00m\u001b[38;5;124m\"\u001b[39m)\n\u001b[0;32m    500\u001b[0m \u001b[38;5;28;01mif\u001b[39;00m x\u001b[38;5;241m.\u001b[39mndim \u001b[38;5;241m>\u001b[39m \u001b[38;5;241m2\u001b[39m \u001b[38;5;129;01mor\u001b[39;00m y\u001b[38;5;241m.\u001b[39mndim \u001b[38;5;241m>\u001b[39m \u001b[38;5;241m2\u001b[39m:\n\u001b[0;32m    501\u001b[0m     \u001b[38;5;28;01mraise\u001b[39;00m \u001b[38;5;167;01mValueError\u001b[39;00m(\u001b[38;5;124mf\u001b[39m\u001b[38;5;124m\"\u001b[39m\u001b[38;5;124mx and y can be no greater than 2D, but have \u001b[39m\u001b[38;5;124m\"\u001b[39m\n\u001b[0;32m    502\u001b[0m                      \u001b[38;5;124mf\u001b[39m\u001b[38;5;124m\"\u001b[39m\u001b[38;5;124mshapes \u001b[39m\u001b[38;5;132;01m{\u001b[39;00mx\u001b[38;5;241m.\u001b[39mshape\u001b[38;5;132;01m}\u001b[39;00m\u001b[38;5;124m and \u001b[39m\u001b[38;5;132;01m{\u001b[39;00my\u001b[38;5;241m.\u001b[39mshape\u001b[38;5;132;01m}\u001b[39;00m\u001b[38;5;124m\"\u001b[39m)\n",
      "\u001b[1;31mValueError\u001b[0m: x and y must have same first dimension, but have shapes (9967,) and (0,)"
     ]
    },
    {
     "data": {
      "image/png": "[encoded data removed]",
      "text/plain": [
       "<Figure size 432x288 with 2 Axes>"
      ]
     },
     "metadata": {
      "needs_background": "light"
     },
     "output_type": "display_data"
    }
   ],
   "source": [
    "fig, (fig_L, fig_R) = plt.subplots(2, 1, sharex=True)\n",
    "fig_R.plot(range(0,len(brightness_R)),brightness_R,color='r',label=\"R\")\n",
    "fig_R.legend()\n",
    "fig_L.plot(range(0,len(brightness_L)),brightness_L,color='b',label=\"L\")\n",
    "fig_L.legend()\n"
   ]
  },
  {
   "cell_type": "code",
   "execution_count": 71,
   "id": "0424e839",
   "metadata": {},
   "outputs": [
    {
     "name": "stdout",
     "output_type": "stream",
     "text": [
      "      Frame  LED_Signal\n",
      "0         1      54.623\n",
      "1         2      54.613\n",
      "2         3      54.730\n",
      "3         4      54.574\n",
      "4         5      54.474\n",
      "...     ...         ...\n",
      "9962   9963      54.660\n",
      "9963   9964      54.731\n",
      "9964   9965      54.886\n",
      "9965   9966      54.967\n",
      "9966   9967      54.667\n",
      "\n",
      "[9967 rows x 2 columns]\n"
     ]
    }
   ],
   "source": [
    "LED_time = pd.read_csv('video/LED.csv') # LED signal for synchronization\n",
    "LED_time.rename(columns={'Slice':'Frame','Mean':'LED_Signal'},inplace = True)\n",
    "print(LED_time)"
   ]
  },
  {
   "cell_type": "code",
   "execution_count": 77,
   "id": "d1046fb5",
   "metadata": {},
   "outputs": [
    {
     "data": {
      "text/plain": [
       "[<matplotlib.lines.Line2D at 0x19456047ac0>]"
      ]
     },
     "execution_count": 77,
     "metadata": {},
     "output_type": "execute_result"
    },
    {
     "data": {
      "image/png": "[encoded data removed]",
      "text/plain": [
       "<Figure size 432x288 with 1 Axes>"
      ]
     },
     "metadata": {
      "needs_background": "light"
     },
     "output_type": "display_data"
    },
    {
     "data": {
      "image/png": "[encoded data removed]",
      "text/plain": [
       "<Figure size 432x288 with 1 Axes>"
      ]
     },
     "metadata": {
      "needs_background": "light"
     },
     "output_type": "display_data"
    }
   ],
   "source": [
    "X = range(0,9967)\n",
    "plt.figure()\n",
    "plt.plot(X,LED_time['LED_Signal'])\n",
    "plt.figure()\n",
    "plt.plot(X,brightness_R)"
   ]
  },
  {
   "cell_type": "code",
   "execution_count": null,
   "id": "809bbbfd",
   "metadata": {},
   "outputs": [],
   "source": [
    "# make signal-on = 1 ,signal-off = 0\n",
    "def modify_to_binary(value):\n",
    "    if value > LED_threshhold:\n",
    "        return 1\n",
    "    else:\n",
    "        return 0"
   ]
  },
  {
   "cell_type": "code",
   "execution_count": null,
   "id": "2f13291c",
   "metadata": {},
   "outputs": [],
   "source": [
    "LED_time['LED_Signal'] = LED_time['LED_Signal'].apply(modify_to_binary)\n",
    "LED_time"
   ]
  },
  {
   "cell_type": "code",
   "execution_count": null,
   "id": "42766486",
   "metadata": {},
   "outputs": [],
   "source": [
    "# Upsample video data to match ephys data sample rate\n",
    "LED_time_up = np.repeat(LED_time['LED_Signal'].values,sample_rate/frame_rate)\n",
    "print(len(LED_time_up))\n",
    "plt.plot(LED_time_up)"
   ]
  },
  {
   "cell_type": "code",
   "execution_count": null,
   "id": "bb0267ed",
   "metadata": {},
   "outputs": [],
   "source": [
    "LED_time_gap = []\n",
    "LED_time_point = []\n",
    "for index in range(0,len(LED_time_up)-1):\n",
    "    if (LED_time_up[index+1] - LED_time_up[index] < 0):\n",
    "        LED_time_point.append(index)\n",
    "for index in range(0,len(LED_time_point)-1):\n",
    "    LED_time_gap.append((LED_time_point[index+1] - LED_time_point[index])/sample_rate)\n",
    "\n",
    "print(LED_time_gap)\n",
    "print(LED_time_point)"
   ]
  },
  {
   "cell_type": "code",
   "execution_count": null,
   "id": "f956a305",
   "metadata": {},
   "outputs": [],
   "source": []
  }
 ],
 "metadata": {
  "kernelspec": {
   "display_name": "Python 3 (ipykernel)",
   "language": "python",
   "name": "python3"
  },
  "language_info": {
   "codemirror_mode": {
    "name": "ipython",
    "version": 3
   },
   "file_extension": ".py",
   "mimetype": "text/x-python",
   "name": "python",
   "nbconvert_exporter": "python",
   "pygments_lexer": "ipython3",
   "version": "3.9.12"
  }
 },
 "nbformat": 4,
 "nbformat_minor": 5
}
